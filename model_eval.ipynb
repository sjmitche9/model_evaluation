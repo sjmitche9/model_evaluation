{
 "cells": [
  {
   "cell_type": "markdown",
   "metadata": {
    "id": "CZuin5krrfpA"
   },
   "source": [
    "# Model Evaluation"
   ]
  },
  {
   "cell_type": "markdown",
   "metadata": {
    "id": "aKyMlvNzrfpD"
   },
   "source": [
    "### Introduction\n",
    "In this notebook, we will go through the process of creating a statistical model and evaluating its goodness of fit. We will do this for both a regression and classification model (linear and logistic regression)."
   ]
  },
  {
   "cell_type": "markdown",
   "metadata": {
    "id": "r45UDbo8rfpE"
   },
   "source": [
    "### Model Identification\n",
    "- EDA and data cleaning is \"done\" at this point.\n",
    "- What is our dependent variable?\n",
    "- What are our (potential) independent variables?\n",
    "- Does this fit into a regression or classification framework?\n",
    "- What statistical models can we use (linear regression or logistic regression for now)\n",
    "    - Check model assumptions"
   ]
  },
  {
   "cell_type": "markdown",
   "metadata": {
    "id": "sJb-XtrUrfpE"
   },
   "source": [
    "### Regression Example\n",
    "\n",
    "In this example, we will use a used car dataset. The dependent variable is 'selling_price' with all other variables being potential independent variables.\n",
    "\n",
    "#### Load the dataset\n",
    "\n",
    "The dataset is stored locally as a csv. Take some time to familiarize yourself with the dataset. Assume the data cleaning has already been performed."
   ]
  },
  {
   "cell_type": "code",
   "execution_count": 22,
   "metadata": {
    "id": "rLqAfvJjrfpF"
   },
   "outputs": [
    {
     "data": {
      "text/html": [
       "<div>\n",
       "<style scoped>\n",
       "    .dataframe tbody tr th:only-of-type {\n",
       "        vertical-align: middle;\n",
       "    }\n",
       "\n",
       "    .dataframe tbody tr th {\n",
       "        vertical-align: top;\n",
       "    }\n",
       "\n",
       "    .dataframe thead th {\n",
       "        text-align: right;\n",
       "    }\n",
       "</style>\n",
       "<table border=\"1\" class=\"dataframe\">\n",
       "  <thead>\n",
       "    <tr style=\"text-align: right;\">\n",
       "      <th></th>\n",
       "      <th>selling_price</th>\n",
       "      <th>year</th>\n",
       "      <th>km_driven</th>\n",
       "      <th>owners</th>\n",
       "      <th>kmpl</th>\n",
       "      <th>engine_cc</th>\n",
       "      <th>power_bhp</th>\n",
       "      <th>seats</th>\n",
       "    </tr>\n",
       "  </thead>\n",
       "  <tbody>\n",
       "    <tr>\n",
       "      <th>0</th>\n",
       "      <td>130000</td>\n",
       "      <td>2007</td>\n",
       "      <td>120000</td>\n",
       "      <td>1</td>\n",
       "      <td>16.10</td>\n",
       "      <td>1298</td>\n",
       "      <td>88.2</td>\n",
       "      <td>5</td>\n",
       "    </tr>\n",
       "    <tr>\n",
       "      <th>1</th>\n",
       "      <td>778000</td>\n",
       "      <td>2016</td>\n",
       "      <td>70000</td>\n",
       "      <td>2</td>\n",
       "      <td>24.52</td>\n",
       "      <td>1248</td>\n",
       "      <td>88.5</td>\n",
       "      <td>7</td>\n",
       "    </tr>\n",
       "    <tr>\n",
       "      <th>2</th>\n",
       "      <td>500000</td>\n",
       "      <td>2012</td>\n",
       "      <td>53000</td>\n",
       "      <td>2</td>\n",
       "      <td>23.00</td>\n",
       "      <td>1396</td>\n",
       "      <td>90.0</td>\n",
       "      <td>5</td>\n",
       "    </tr>\n",
       "    <tr>\n",
       "      <th>3</th>\n",
       "      <td>600000</td>\n",
       "      <td>2012</td>\n",
       "      <td>72000</td>\n",
       "      <td>1</td>\n",
       "      <td>21.50</td>\n",
       "      <td>1248</td>\n",
       "      <td>88.8</td>\n",
       "      <td>5</td>\n",
       "    </tr>\n",
       "    <tr>\n",
       "      <th>4</th>\n",
       "      <td>1149000</td>\n",
       "      <td>2019</td>\n",
       "      <td>5000</td>\n",
       "      <td>1</td>\n",
       "      <td>17.00</td>\n",
       "      <td>1591</td>\n",
       "      <td>121.3</td>\n",
       "      <td>5</td>\n",
       "    </tr>\n",
       "  </tbody>\n",
       "</table>\n",
       "</div>"
      ],
      "text/plain": [
       "   selling_price  year  km_driven  owners   kmpl  engine_cc  power_bhp  seats\n",
       "0         130000  2007     120000       1  16.10       1298       88.2      5\n",
       "1         778000  2016      70000       2  24.52       1248       88.5      7\n",
       "2         500000  2012      53000       2  23.00       1396       90.0      5\n",
       "3         600000  2012      72000       1  21.50       1248       88.8      5\n",
       "4        1149000  2019       5000       1  17.00       1591      121.3      5"
      ]
     },
     "execution_count": 22,
     "metadata": {},
     "output_type": "execute_result"
    }
   ],
   "source": [
    "import pandas as pd\n",
    "import numpy as np\n",
    "import matplotlib.pyplot as plt\n",
    "\n",
    "car_df = pd.read_csv(\"UsedCars2.csv\")\n",
    "car_df.head()"
   ]
  },
  {
   "cell_type": "code",
   "execution_count": 23,
   "metadata": {
    "id": "bzEoE5U7rfpG"
   },
   "outputs": [
    {
     "name": "stdout",
     "output_type": "stream",
     "text": [
      "<class 'pandas.core.frame.DataFrame'>\n",
      "RangeIndex: 1595 entries, 0 to 1594\n",
      "Data columns (total 8 columns):\n",
      " #   Column         Non-Null Count  Dtype  \n",
      "---  ------         --------------  -----  \n",
      " 0   selling_price  1595 non-null   int64  \n",
      " 1   year           1595 non-null   int64  \n",
      " 2   km_driven      1595 non-null   int64  \n",
      " 3   owners         1595 non-null   int64  \n",
      " 4   kmpl           1595 non-null   float64\n",
      " 5   engine_cc      1595 non-null   int64  \n",
      " 6   power_bhp      1595 non-null   float64\n",
      " 7   seats          1595 non-null   int64  \n",
      "dtypes: float64(2), int64(6)\n",
      "memory usage: 99.8 KB\n"
     ]
    }
   ],
   "source": [
    "car_df.info()"
   ]
  },
  {
   "cell_type": "code",
   "execution_count": 24,
   "metadata": {
    "id": "JpHvxJTrrfpH"
   },
   "outputs": [
    {
     "data": {
      "text/html": [
       "<div>\n",
       "<style scoped>\n",
       "    .dataframe tbody tr th:only-of-type {\n",
       "        vertical-align: middle;\n",
       "    }\n",
       "\n",
       "    .dataframe tbody tr th {\n",
       "        vertical-align: top;\n",
       "    }\n",
       "\n",
       "    .dataframe thead th {\n",
       "        text-align: right;\n",
       "    }\n",
       "</style>\n",
       "<table border=\"1\" class=\"dataframe\">\n",
       "  <thead>\n",
       "    <tr style=\"text-align: right;\">\n",
       "      <th></th>\n",
       "      <th>selling_price</th>\n",
       "      <th>year</th>\n",
       "      <th>km_driven</th>\n",
       "      <th>owners</th>\n",
       "      <th>kmpl</th>\n",
       "      <th>engine_cc</th>\n",
       "      <th>power_bhp</th>\n",
       "      <th>seats</th>\n",
       "    </tr>\n",
       "  </thead>\n",
       "  <tbody>\n",
       "    <tr>\n",
       "      <th>count</th>\n",
       "      <td>1.595000e+03</td>\n",
       "      <td>1595.000000</td>\n",
       "      <td>1595.000000</td>\n",
       "      <td>1595.000000</td>\n",
       "      <td>1595.000000</td>\n",
       "      <td>1595.000000</td>\n",
       "      <td>1595.000000</td>\n",
       "      <td>1595.000000</td>\n",
       "    </tr>\n",
       "    <tr>\n",
       "      <th>mean</th>\n",
       "      <td>6.963078e+05</td>\n",
       "      <td>2014.269592</td>\n",
       "      <td>67922.847649</td>\n",
       "      <td>1.431348</td>\n",
       "      <td>19.409555</td>\n",
       "      <td>1465.480878</td>\n",
       "      <td>93.251586</td>\n",
       "      <td>5.423824</td>\n",
       "    </tr>\n",
       "    <tr>\n",
       "      <th>std</th>\n",
       "      <td>8.844260e+05</td>\n",
       "      <td>3.698153</td>\n",
       "      <td>50196.275311</td>\n",
       "      <td>0.705434</td>\n",
       "      <td>3.904365</td>\n",
       "      <td>499.842407</td>\n",
       "      <td>35.342834</td>\n",
       "      <td>0.956879</td>\n",
       "    </tr>\n",
       "    <tr>\n",
       "      <th>min</th>\n",
       "      <td>4.000000e+04</td>\n",
       "      <td>1997.000000</td>\n",
       "      <td>1000.000000</td>\n",
       "      <td>0.000000</td>\n",
       "      <td>10.000000</td>\n",
       "      <td>624.000000</td>\n",
       "      <td>34.200000</td>\n",
       "      <td>4.000000</td>\n",
       "    </tr>\n",
       "    <tr>\n",
       "      <th>25%</th>\n",
       "      <td>2.800000e+05</td>\n",
       "      <td>2012.000000</td>\n",
       "      <td>32000.000000</td>\n",
       "      <td>1.000000</td>\n",
       "      <td>16.780000</td>\n",
       "      <td>1197.000000</td>\n",
       "      <td>70.000000</td>\n",
       "      <td>5.000000</td>\n",
       "    </tr>\n",
       "    <tr>\n",
       "      <th>50%</th>\n",
       "      <td>4.849990e+05</td>\n",
       "      <td>2015.000000</td>\n",
       "      <td>60000.000000</td>\n",
       "      <td>1.000000</td>\n",
       "      <td>19.300000</td>\n",
       "      <td>1248.000000</td>\n",
       "      <td>84.000000</td>\n",
       "      <td>5.000000</td>\n",
       "    </tr>\n",
       "    <tr>\n",
       "      <th>75%</th>\n",
       "      <td>7.000000e+05</td>\n",
       "      <td>2017.000000</td>\n",
       "      <td>90000.000000</td>\n",
       "      <td>2.000000</td>\n",
       "      <td>22.320000</td>\n",
       "      <td>1588.500000</td>\n",
       "      <td>103.600000</td>\n",
       "      <td>5.000000</td>\n",
       "    </tr>\n",
       "    <tr>\n",
       "      <th>max</th>\n",
       "      <td>6.223000e+06</td>\n",
       "      <td>2020.000000</td>\n",
       "      <td>500000.000000</td>\n",
       "      <td>4.000000</td>\n",
       "      <td>28.400000</td>\n",
       "      <td>3198.000000</td>\n",
       "      <td>261.400000</td>\n",
       "      <td>10.000000</td>\n",
       "    </tr>\n",
       "  </tbody>\n",
       "</table>\n",
       "</div>"
      ],
      "text/plain": [
       "       selling_price         year      km_driven       owners         kmpl  \\\n",
       "count   1.595000e+03  1595.000000    1595.000000  1595.000000  1595.000000   \n",
       "mean    6.963078e+05  2014.269592   67922.847649     1.431348    19.409555   \n",
       "std     8.844260e+05     3.698153   50196.275311     0.705434     3.904365   \n",
       "min     4.000000e+04  1997.000000    1000.000000     0.000000    10.000000   \n",
       "25%     2.800000e+05  2012.000000   32000.000000     1.000000    16.780000   \n",
       "50%     4.849990e+05  2015.000000   60000.000000     1.000000    19.300000   \n",
       "75%     7.000000e+05  2017.000000   90000.000000     2.000000    22.320000   \n",
       "max     6.223000e+06  2020.000000  500000.000000     4.000000    28.400000   \n",
       "\n",
       "         engine_cc    power_bhp        seats  \n",
       "count  1595.000000  1595.000000  1595.000000  \n",
       "mean   1465.480878    93.251586     5.423824  \n",
       "std     499.842407    35.342834     0.956879  \n",
       "min     624.000000    34.200000     4.000000  \n",
       "25%    1197.000000    70.000000     5.000000  \n",
       "50%    1248.000000    84.000000     5.000000  \n",
       "75%    1588.500000   103.600000     5.000000  \n",
       "max    3198.000000   261.400000    10.000000  "
      ]
     },
     "execution_count": 24,
     "metadata": {},
     "output_type": "execute_result"
    }
   ],
   "source": [
    "car_df.describe()"
   ]
  },
  {
   "cell_type": "code",
   "execution_count": 25,
   "metadata": {},
   "outputs": [
    {
     "data": {
      "image/png": "[encoded data removed]",
      "text/plain": [
       "<Figure size 1700x700 with 1 Axes>"
      ]
     },
     "metadata": {},
     "output_type": "display_data"
    }
   ],
   "source": [
    "plt.figure(figsize=(17,7))\n",
    "plt.hist(car_df['selling_price'])\n",
    "plt.show()"
   ]
  },
  {
   "cell_type": "code",
   "execution_count": 26,
   "metadata": {
    "id": "NUdTg_BvrfpH"
   },
   "outputs": [
    {
     "name": "stdout",
     "output_type": "stream",
     "text": [
      "average percent error when predicting engine Selling Price using the mean only: 126.0%\n"
     ]
    }
   ],
   "source": [
    "error_sp = car_df['selling_price'] - car_df['selling_price'].mean()\n",
    "\n",
    "absolute_percent_error_sp = np.abs(error_sp.values)/car_df['selling_price'].values\n",
    "\n",
    "print(f\"average percent error when predicting engine Selling Price using the mean only: {np.round(100*np.mean(absolute_percent_error_sp))}%\")"
   ]
  },
  {
   "cell_type": "markdown",
   "metadata": {
    "id": "fzKyGwxsrfpI"
   },
   "source": [
    "For nominal categorical variables with three or more categories, it is recommended to \"one-hot-encode\" (especially for linear and logistic regression). This accounts for the nominal aspect of the categories and allows linear regression to assign a coefficient for category. One-hot-encoding can be done quite easily using pandas's `get_dummies()` function."
   ]
  },
  {
   "cell_type": "code",
   "execution_count": 27,
   "metadata": {
    "id": "wJFX2RZ2pGfo"
   },
   "outputs": [
    {
     "data": {
      "text/html": [
       "<div>\n",
       "<style scoped>\n",
       "    .dataframe tbody tr th:only-of-type {\n",
       "        vertical-align: middle;\n",
       "    }\n",
       "\n",
       "    .dataframe tbody tr th {\n",
       "        vertical-align: top;\n",
       "    }\n",
       "\n",
       "    .dataframe thead th {\n",
       "        text-align: right;\n",
       "    }\n",
       "</style>\n",
       "<table border=\"1\" class=\"dataframe\">\n",
       "  <thead>\n",
       "    <tr style=\"text-align: right;\">\n",
       "      <th></th>\n",
       "      <th>color</th>\n",
       "    </tr>\n",
       "  </thead>\n",
       "  <tbody>\n",
       "    <tr>\n",
       "      <th>0</th>\n",
       "      <td>blue</td>\n",
       "    </tr>\n",
       "    <tr>\n",
       "      <th>1</th>\n",
       "      <td>red</td>\n",
       "    </tr>\n",
       "    <tr>\n",
       "      <th>2</th>\n",
       "      <td>green</td>\n",
       "    </tr>\n",
       "    <tr>\n",
       "      <th>3</th>\n",
       "      <td>blue</td>\n",
       "    </tr>\n",
       "  </tbody>\n",
       "</table>\n",
       "</div>"
      ],
      "text/plain": [
       "   color\n",
       "0   blue\n",
       "1    red\n",
       "2  green\n",
       "3   blue"
      ]
     },
     "execution_count": 27,
     "metadata": {},
     "output_type": "execute_result"
    }
   ],
   "source": [
    "df_categories = pd.DataFrame({'color' : ['blue', 'red', 'green', 'blue']})\n",
    "df_categories"
   ]
  },
  {
   "cell_type": "code",
   "execution_count": 28,
   "metadata": {
    "id": "TN7UJ2-NpGdc"
   },
   "outputs": [
    {
     "data": {
      "text/html": [
       "<div>\n",
       "<style scoped>\n",
       "    .dataframe tbody tr th:only-of-type {\n",
       "        vertical-align: middle;\n",
       "    }\n",
       "\n",
       "    .dataframe tbody tr th {\n",
       "        vertical-align: top;\n",
       "    }\n",
       "\n",
       "    .dataframe thead th {\n",
       "        text-align: right;\n",
       "    }\n",
       "</style>\n",
       "<table border=\"1\" class=\"dataframe\">\n",
       "  <thead>\n",
       "    <tr style=\"text-align: right;\">\n",
       "      <th></th>\n",
       "      <th>color_blue</th>\n",
       "      <th>color_green</th>\n",
       "      <th>color_red</th>\n",
       "    </tr>\n",
       "  </thead>\n",
       "  <tbody>\n",
       "    <tr>\n",
       "      <th>0</th>\n",
       "      <td>True</td>\n",
       "      <td>False</td>\n",
       "      <td>False</td>\n",
       "    </tr>\n",
       "    <tr>\n",
       "      <th>1</th>\n",
       "      <td>False</td>\n",
       "      <td>False</td>\n",
       "      <td>True</td>\n",
       "    </tr>\n",
       "    <tr>\n",
       "      <th>2</th>\n",
       "      <td>False</td>\n",
       "      <td>True</td>\n",
       "      <td>False</td>\n",
       "    </tr>\n",
       "    <tr>\n",
       "      <th>3</th>\n",
       "      <td>True</td>\n",
       "      <td>False</td>\n",
       "      <td>False</td>\n",
       "    </tr>\n",
       "  </tbody>\n",
       "</table>\n",
       "</div>"
      ],
      "text/plain": [
       "   color_blue  color_green  color_red\n",
       "0        True        False      False\n",
       "1       False        False       True\n",
       "2       False         True      False\n",
       "3        True        False      False"
      ]
     },
     "execution_count": 28,
     "metadata": {},
     "output_type": "execute_result"
    }
   ],
   "source": [
    "pd.get_dummies(df_categories)"
   ]
  },
  {
   "cell_type": "markdown",
   "metadata": {
    "id": "RlNWMRVsrfpI"
   },
   "source": [
    "### Building Models\n",
    "\n",
    "We are now ready to start building a linear regression model! But which independent variables should we use? All of them? A select few? Which will be the best model? There are a few strategies we could implement.\n",
    "\n",
    "#### Forward Selection\n",
    "1. Build all models that contain only one independent variable.\n",
    "    - $selling\\_price = b_0+b_1(year)$\n",
    "    - $selling\\_price = b_0+b_1(km\\_driven)$\n",
    "    - $selling\\_price = b_0+b_1(fuel)$\n",
    "    - etc...\n",
    "2. Identify the best model (maybe highest adj. R<sup>2</sup> value) and then add one more variable at a time.\n",
    "3. Find the new best model.\n",
    "4. Repeat until you hit some stopping criteria (maybe adj. R<sup>2</sup> stops increasing or you get p-values > 0.05).\n",
    "\n",
    "![](images/forward_selection.png)\n",
    "\n"
   ]
  },
  {
   "cell_type": "code",
   "execution_count": 29,
   "metadata": {
    "colab": {
     "base_uri": "https://localhost:8080/"
    },
    "executionInfo": {
     "elapsed": 62,
     "status": "ok",
     "timestamp": 1737422011577,
     "user": {
      "displayName": "Alibek Kruglikov",
      "userId": "12107629968185180200"
     },
     "user_tz": 300
    },
    "id": "TjMThtx3rfpJ",
    "outputId": "8f808b7b-ef8a-4cb1-d664-3aeef615ca41",
    "scrolled": false
   },
   "outputs": [
    {
     "data": {
      "text/plain": [
       "Index(['year', 'km_driven', 'owners', 'kmpl', 'engine_cc', 'power_bhp',\n",
       "       'seats'],\n",
       "      dtype='object')"
      ]
     },
     "execution_count": 29,
     "metadata": {},
     "output_type": "execute_result"
    }
   ],
   "source": [
    "import statsmodels.api as sm\n",
    "\n",
    "y = car_df['selling_price']\n",
    "car_df_new = car_df.drop(columns=['selling_price'])\n",
    "\n",
    "car_df_new.columns"
   ]
  },
  {
   "cell_type": "code",
   "execution_count": 30,
   "metadata": {
    "executionInfo": {
     "elapsed": 92,
     "status": "ok",
     "timestamp": 1737422116928,
     "user": {
      "displayName": "Alibek Kruglikov",
      "userId": "12107629968185180200"
     },
     "user_tz": 300
    },
    "id": "5G_ajhRecNFj"
   },
   "outputs": [],
   "source": [
    "# start with an empty list\n",
    "X=[]\n",
    "\n",
    "# for loop to go through a list of things (in this case, each column in car_df_new)\n",
    "for column in car_df_new.columns:\n",
    "\n",
    "    # appending something to our list (X), and the 'something' is sm.add_constant(car_df_new[column])\n",
    "    X.append(sm.add_constant(car_df_new[column]))"
   ]
  },
  {
   "cell_type": "code",
   "execution_count": 10,
   "metadata": {
    "executionInfo": {
     "elapsed": 78,
     "status": "ok",
     "timestamp": 1737422154225,
     "user": {
      "displayName": "Alibek Kruglikov",
      "userId": "12107629968185180200"
     },
     "user_tz": 300
    },
    "id": "-k7aSKijcLHc"
   },
   "outputs": [],
   "source": [
    "# X = [sm.add_constant(car_df_new['selling_price']), sm.add_constant(car_df_new['year']), sm.add_constant(car_df_new['km_driven']), ...]\n",
    "\n",
    "#Create a model for each indep. variable\n",
    "#list of X's (with constants)\n",
    "X = [sm.add_constant(car_df_new[column]) for column in car_df_new.columns]"
   ]
  },
  {
   "cell_type": "code",
   "execution_count": 32,
   "metadata": {
    "colab": {
     "base_uri": "https://localhost:8080/",
     "height": 206
    },
    "executionInfo": {
     "elapsed": 81,
     "status": "ok",
     "timestamp": 1737422203456,
     "user": {
      "displayName": "Alibek Kruglikov",
      "userId": "12107629968185180200"
     },
     "user_tz": 300
    },
    "id": "w8Mjf0-mbtXQ",
    "outputId": "8035ef9d-7fea-491d-c609-ed77aefb77fa"
   },
   "outputs": [
    {
     "data": {
      "text/html": [
       "<div>\n",
       "<style scoped>\n",
       "    .dataframe tbody tr th:only-of-type {\n",
       "        vertical-align: middle;\n",
       "    }\n",
       "\n",
       "    .dataframe tbody tr th {\n",
       "        vertical-align: top;\n",
       "    }\n",
       "\n",
       "    .dataframe thead th {\n",
       "        text-align: right;\n",
       "    }\n",
       "</style>\n",
       "<table border=\"1\" class=\"dataframe\">\n",
       "  <thead>\n",
       "    <tr style=\"text-align: right;\">\n",
       "      <th></th>\n",
       "      <th>const</th>\n",
       "      <th>year</th>\n",
       "    </tr>\n",
       "  </thead>\n",
       "  <tbody>\n",
       "    <tr>\n",
       "      <th>0</th>\n",
       "      <td>1.0</td>\n",
       "      <td>2007</td>\n",
       "    </tr>\n",
       "    <tr>\n",
       "      <th>1</th>\n",
       "      <td>1.0</td>\n",
       "      <td>2016</td>\n",
       "    </tr>\n",
       "    <tr>\n",
       "      <th>2</th>\n",
       "      <td>1.0</td>\n",
       "      <td>2012</td>\n",
       "    </tr>\n",
       "    <tr>\n",
       "      <th>3</th>\n",
       "      <td>1.0</td>\n",
       "      <td>2012</td>\n",
       "    </tr>\n",
       "    <tr>\n",
       "      <th>4</th>\n",
       "      <td>1.0</td>\n",
       "      <td>2019</td>\n",
       "    </tr>\n",
       "  </tbody>\n",
       "</table>\n",
       "</div>"
      ],
      "text/plain": [
       "   const  year\n",
       "0    1.0  2007\n",
       "1    1.0  2016\n",
       "2    1.0  2012\n",
       "3    1.0  2012\n",
       "4    1.0  2019"
      ]
     },
     "execution_count": 32,
     "metadata": {},
     "output_type": "execute_result"
    }
   ],
   "source": [
    "X[0].head()"
   ]
  },
  {
   "cell_type": "code",
   "execution_count": 33,
   "metadata": {
    "colab": {
     "base_uri": "https://localhost:8080/"
    },
    "executionInfo": {
     "elapsed": 80,
     "status": "ok",
     "timestamp": 1737422197591,
     "user": {
      "displayName": "Alibek Kruglikov",
      "userId": "12107629968185180200"
     },
     "user_tz": 300
    },
    "id": "nDMhK6hCrfpJ",
    "outputId": "61163974-1230-4ba4-cb27-73fd616d7c24"
   },
   "outputs": [
    {
     "name": "stdout",
     "output_type": "stream",
     "text": [
      "0.17367044629471817\n",
      "const    7.813010e-68\n",
      "year     2.981846e-68\n",
      "dtype: float64\n"
     ]
    }
   ],
   "source": [
    "model_selling_price = sm.OLS(y,X[0])\n",
    "results_selling_price = model_selling_price.fit()\n",
    "ajd_r2_selling_price = results_selling_price.rsquared_adj\n",
    "pvalues_selling_price = results_selling_price.pvalues\n",
    "\n",
    "print(ajd_r2_selling_price)\n",
    "print(pvalues_selling_price)"
   ]
  },
  {
   "cell_type": "code",
   "execution_count": 34,
   "metadata": {
    "colab": {
     "base_uri": "https://localhost:8080/"
    },
    "executionInfo": {
     "elapsed": 82,
     "status": "ok",
     "timestamp": 1737422293153,
     "user": {
      "displayName": "Alibek Kruglikov",
      "userId": "12107629968185180200"
     },
     "user_tz": 300
    },
    "id": "AVIrqUi2b1zB",
    "outputId": "4b4e14fd-2dd4-4603-bc6f-42744a424e47"
   },
   "outputs": [
    {
     "name": "stdout",
     "output_type": "stream",
     "text": [
      "                            OLS Regression Results                            \n",
      "==============================================================================\n",
      "Dep. Variable:          selling_price   R-squared:                       0.174\n",
      "Model:                            OLS   Adj. R-squared:                  0.174\n",
      "Method:                 Least Squares   F-statistic:                     336.0\n",
      "Date:                Thu, 06 Feb 2025   Prob (F-statistic):           2.98e-68\n",
      "Time:                        10:33:40   Log-Likelihood:                -23950.\n",
      "No. Observations:                1595   AIC:                         4.790e+04\n",
      "Df Residuals:                    1593   BIC:                         4.791e+04\n",
      "Df Model:                           1                                         \n",
      "Covariance Type:            nonrobust                                         \n",
      "==============================================================================\n",
      "                 coef    std err          t      P>|t|      [0.025      0.975]\n",
      "------------------------------------------------------------------------------\n",
      "const      -2.004e+08    1.1e+07    -18.267      0.000   -2.22e+08   -1.79e+08\n",
      "year        9.981e+04   5445.141     18.331      0.000    8.91e+04     1.1e+05\n",
      "==============================================================================\n",
      "Omnibus:                     1228.402   Durbin-Watson:                   1.622\n",
      "Prob(Omnibus):                  0.000   Jarque-Bera (JB):            18849.358\n",
      "Skew:                           3.624   Prob(JB):                         0.00\n",
      "Kurtosis:                      18.202   Cond. No.                     1.10e+06\n",
      "==============================================================================\n",
      "\n",
      "Notes:\n",
      "[1] Standard Errors assume that the covariance matrix of the errors is correctly specified.\n",
      "[2] The condition number is large, 1.1e+06. This might indicate that there are\n",
      "strong multicollinearity or other numerical problems.\n"
     ]
    }
   ],
   "source": [
    "print(results_selling_price.summary())"
   ]
  },
  {
   "cell_type": "code",
   "execution_count": 36,
   "metadata": {
    "colab": {
     "base_uri": "https://localhost:8080/"
    },
    "executionInfo": {
     "elapsed": 90,
     "status": "ok",
     "timestamp": 1737422332262,
     "user": {
      "displayName": "Alibek Kruglikov",
      "userId": "12107629968185180200"
     },
     "user_tz": 300
    },
    "id": "zFgEoFfFrfpK",
    "outputId": "5098a2e9-8e6a-4a02-9016-ed4d264c1ea3"
   },
   "outputs": [
    {
     "name": "stdout",
     "output_type": "stream",
     "text": [
      "adj_R2: 0.174, P-values: (7.813010353972355e-68, 2.9818464289456887e-68), column: year\n",
      "adj_R2: 0.070, P-values: (1.913408757155729e-142, 3.5013116609693015e-27), column: km_driven\n",
      "adj_R2: 0.057, P-values: (1.5186541212461957e-102, 2.433141313618573e-22), column: owners\n",
      "adj_R2: 0.013, P-values: (8.93545036142581e-27, 2.08815881975255e-06), column: kmpl\n",
      "adj_R2: 0.199, P-values: (9.80558467000735e-14, 5.868115795937413e-79), column: engine_cc\n",
      "adj_R2: 0.579, P-values: (9.412782556135599e-130, 3.711012723024057e-302), column: power_bhp\n",
      "adj_R2: -0.000, P-values: (2.922458353966046e-06, 0.4359248539986663), column: seats\n"
     ]
    }
   ],
   "source": [
    "Models = [sm.OLS(y,x) for x in X] #list of models\n",
    "Results = [model.fit() for model in Models] #list of results\n",
    "Adj_Rsquared = [results.rsquared_adj for results in Results] #list of rsquared\n",
    "Pval = [results.pvalues for results in Results] #list of p-values\n",
    "\n",
    "for i in range(len(Adj_Rsquared)):\n",
    "     print(f'adj_R2: {Adj_Rsquared[i]:.3f}, P-values: {*Pval[i],}, column: {car_df_new.columns[i]}')"
   ]
  },
  {
   "cell_type": "code",
   "execution_count": 17,
   "metadata": {},
   "outputs": [
    {
     "data": {
      "text/plain": [
       "const    7.813010e-68\n",
       "year     2.981846e-68\n",
       "dtype: float64"
      ]
     },
     "execution_count": 17,
     "metadata": {},
     "output_type": "execute_result"
    }
   ],
   "source": [
    "Results[0].pvalues"
   ]
  },
  {
   "cell_type": "markdown",
   "metadata": {
    "id": "R2RdrpCKrfpK"
   },
   "source": [
    "From this output, we can see that the model with 'power_bhp' had the highest adj. R-squared value. Now let's try all models that consist of 'power_bhp' and another variable."
   ]
  },
  {
   "cell_type": "code",
   "execution_count": 39,
   "metadata": {
    "executionInfo": {
     "elapsed": 104,
     "status": "ok",
     "timestamp": 1737422451977,
     "user": {
      "displayName": "Alibek Kruglikov",
      "userId": "12107629968185180200"
     },
     "user_tz": 300
    },
    "id": "qRhO-4e6rfpK"
   },
   "outputs": [],
   "source": [
    "remaining_var = car_df.drop(['selling_price', 'power_bhp'], axis=1)\n",
    "included_df = car_df[['power_bhp']]"
   ]
  },
  {
   "cell_type": "code",
   "execution_count": 41,
   "metadata": {
    "colab": {
     "base_uri": "https://localhost:8080/",
     "height": 423
    },
    "executionInfo": {
     "elapsed": 205,
     "status": "ok",
     "timestamp": 1737422521492,
     "user": {
      "displayName": "Alibek Kruglikov",
      "userId": "12107629968185180200"
     },
     "user_tz": 300
    },
    "id": "Uqkn1Y8xrfpL",
    "outputId": "78519a62-1597-4376-d83b-aadf2f65b90f"
   },
   "outputs": [
    {
     "data": {
      "text/html": [
       "<div>\n",
       "<style scoped>\n",
       "    .dataframe tbody tr th:only-of-type {\n",
       "        vertical-align: middle;\n",
       "    }\n",
       "\n",
       "    .dataframe tbody tr th {\n",
       "        vertical-align: top;\n",
       "    }\n",
       "\n",
       "    .dataframe thead th {\n",
       "        text-align: right;\n",
       "    }\n",
       "</style>\n",
       "<table border=\"1\" class=\"dataframe\">\n",
       "  <thead>\n",
       "    <tr style=\"text-align: right;\">\n",
       "      <th></th>\n",
       "      <th>const</th>\n",
       "      <th>power_bhp</th>\n",
       "      <th>year</th>\n",
       "    </tr>\n",
       "  </thead>\n",
       "  <tbody>\n",
       "    <tr>\n",
       "      <th>0</th>\n",
       "      <td>1.0</td>\n",
       "      <td>88.20</td>\n",
       "      <td>2007</td>\n",
       "    </tr>\n",
       "    <tr>\n",
       "      <th>1</th>\n",
       "      <td>1.0</td>\n",
       "      <td>88.50</td>\n",
       "      <td>2016</td>\n",
       "    </tr>\n",
       "    <tr>\n",
       "      <th>2</th>\n",
       "      <td>1.0</td>\n",
       "      <td>90.00</td>\n",
       "      <td>2012</td>\n",
       "    </tr>\n",
       "    <tr>\n",
       "      <th>3</th>\n",
       "      <td>1.0</td>\n",
       "      <td>88.80</td>\n",
       "      <td>2012</td>\n",
       "    </tr>\n",
       "    <tr>\n",
       "      <th>4</th>\n",
       "      <td>1.0</td>\n",
       "      <td>121.30</td>\n",
       "      <td>2019</td>\n",
       "    </tr>\n",
       "    <tr>\n",
       "      <th>...</th>\n",
       "      <td>...</td>\n",
       "      <td>...</td>\n",
       "      <td>...</td>\n",
       "    </tr>\n",
       "    <tr>\n",
       "      <th>1590</th>\n",
       "      <td>1.0</td>\n",
       "      <td>67.04</td>\n",
       "      <td>2017</td>\n",
       "    </tr>\n",
       "    <tr>\n",
       "      <th>1591</th>\n",
       "      <td>1.0</td>\n",
       "      <td>67.06</td>\n",
       "      <td>2014</td>\n",
       "    </tr>\n",
       "    <tr>\n",
       "      <th>1592</th>\n",
       "      <td>1.0</td>\n",
       "      <td>102.00</td>\n",
       "      <td>2010</td>\n",
       "    </tr>\n",
       "    <tr>\n",
       "      <th>1593</th>\n",
       "      <td>1.0</td>\n",
       "      <td>37.00</td>\n",
       "      <td>1997</td>\n",
       "    </tr>\n",
       "    <tr>\n",
       "      <th>1594</th>\n",
       "      <td>1.0</td>\n",
       "      <td>73.90</td>\n",
       "      <td>2009</td>\n",
       "    </tr>\n",
       "  </tbody>\n",
       "</table>\n",
       "<p>1595 rows × 3 columns</p>\n",
       "</div>"
      ],
      "text/plain": [
       "      const  power_bhp  year\n",
       "0       1.0      88.20  2007\n",
       "1       1.0      88.50  2016\n",
       "2       1.0      90.00  2012\n",
       "3       1.0      88.80  2012\n",
       "4       1.0     121.30  2019\n",
       "...     ...        ...   ...\n",
       "1590    1.0      67.04  2017\n",
       "1591    1.0      67.06  2014\n",
       "1592    1.0     102.00  2010\n",
       "1593    1.0      37.00  1997\n",
       "1594    1.0      73.90  2009\n",
       "\n",
       "[1595 rows x 3 columns]"
      ]
     },
     "execution_count": 41,
     "metadata": {},
     "output_type": "execute_result"
    }
   ],
   "source": [
    "X = [sm.add_constant(pd.merge(included_df, remaining_var[column], right_index = True, left_index = True))\\\n",
    "     for column in remaining_var.columns]\n",
    "X[0]"
   ]
  },
  {
   "cell_type": "code",
   "execution_count": 42,
   "metadata": {
    "colab": {
     "base_uri": "https://localhost:8080/"
    },
    "executionInfo": {
     "elapsed": 84,
     "status": "ok",
     "timestamp": 1737422534075,
     "user": {
      "displayName": "Alibek Kruglikov",
      "userId": "12107629968185180200"
     },
     "user_tz": 300
    },
    "id": "w6X64ZDFrfpL",
    "outputId": "df4ef977-dd34-4ef4-fc56-9c0cde2f2177"
   },
   "outputs": [
    {
     "name": "stdout",
     "output_type": "stream",
     "text": [
      "adj_R2: 0.639, P-values: (1.0016051895193306e-55, 1.2162697843804209e-288, 7.611907554017845e-55), column: year\n",
      "adj_R2: 0.630, P-values: (2.9782373750039724e-67, 2.737e-321, 1.3575094353398062e-46), column: km_driven\n",
      "adj_R2: 0.605, P-values: (2.0502564956260526e-46, 5.1186413749481356e-303, 2.191183833001878e-23), column: owners\n",
      "adj_R2: 0.618, P-values: (2.9293658745876216e-99, 0.0, 3.6205566491892854e-35), column: kmpl\n",
      "adj_R2: 0.596, P-values: (1.728416299586615e-80, 2.17291507649404e-239, 5.051132565767059e-16), column: engine_cc\n",
      "adj_R2: 0.595, P-values: (3.0827264856704424e-09, 1.012762537e-314, 1.361269323973158e-14), column: seats\n"
     ]
    }
   ],
   "source": [
    "Models = [sm.OLS(y,x) for x in X] #list of models\n",
    "Results = [model.fit() for model in Models] #list of results\n",
    "Adj_Rsquared = [results.rsquared_adj for results in Results] #list of rsquared\n",
    "Pval = [results.pvalues for results in Results] #list of list of p-values\n",
    "\n",
    "for i in range(len(Adj_Rsquared)):\n",
    "     print(f'adj_R2: {Adj_Rsquared[i]:.3f}, P-values: {*Pval[i],}, column: {remaining_var.columns[i]}')"
   ]
  },
  {
   "cell_type": "markdown",
   "metadata": {
    "id": "Ot067awHrfpM"
   },
   "source": [
    "It looks like 'power_bhp' with 'year' is now the \"best\" model. Keep repeating this process until the adjusted R<sup>2</sup> stops increasing by a significant amount, or we get insignificant indep. variables in our model."
   ]
  },
  {
   "cell_type": "code",
   "execution_count": 43,
   "metadata": {
    "executionInfo": {
     "elapsed": 96,
     "status": "ok",
     "timestamp": 1737422816177,
     "user": {
      "displayName": "Alibek Kruglikov",
      "userId": "12107629968185180200"
     },
     "user_tz": 300
    },
    "id": "Lg1vxt2X-UPI"
   },
   "outputs": [],
   "source": [
    "remaining_var = car_df.drop(['selling_price', 'power_bhp', 'year'], axis=1)\n",
    "included_df = car_df[['power_bhp', 'year']]"
   ]
  },
  {
   "cell_type": "code",
   "execution_count": 45,
   "metadata": {
    "colab": {
     "base_uri": "https://localhost:8080/",
     "height": 423
    },
    "executionInfo": {
     "elapsed": 116,
     "status": "ok",
     "timestamp": 1737422817489,
     "user": {
      "displayName": "Alibek Kruglikov",
      "userId": "12107629968185180200"
     },
     "user_tz": 300
    },
    "id": "tKWmplzy-UMX",
    "outputId": "88878f16-cd7e-4510-b8f4-7c2baf48519c"
   },
   "outputs": [
    {
     "data": {
      "text/html": [
       "<div>\n",
       "<style scoped>\n",
       "    .dataframe tbody tr th:only-of-type {\n",
       "        vertical-align: middle;\n",
       "    }\n",
       "\n",
       "    .dataframe tbody tr th {\n",
       "        vertical-align: top;\n",
       "    }\n",
       "\n",
       "    .dataframe thead th {\n",
       "        text-align: right;\n",
       "    }\n",
       "</style>\n",
       "<table border=\"1\" class=\"dataframe\">\n",
       "  <thead>\n",
       "    <tr style=\"text-align: right;\">\n",
       "      <th></th>\n",
       "      <th>const</th>\n",
       "      <th>power_bhp</th>\n",
       "      <th>year</th>\n",
       "      <th>km_driven</th>\n",
       "    </tr>\n",
       "  </thead>\n",
       "  <tbody>\n",
       "    <tr>\n",
       "      <th>0</th>\n",
       "      <td>1.0</td>\n",
       "      <td>88.20</td>\n",
       "      <td>2007</td>\n",
       "      <td>120000</td>\n",
       "    </tr>\n",
       "    <tr>\n",
       "      <th>1</th>\n",
       "      <td>1.0</td>\n",
       "      <td>88.50</td>\n",
       "      <td>2016</td>\n",
       "      <td>70000</td>\n",
       "    </tr>\n",
       "    <tr>\n",
       "      <th>2</th>\n",
       "      <td>1.0</td>\n",
       "      <td>90.00</td>\n",
       "      <td>2012</td>\n",
       "      <td>53000</td>\n",
       "    </tr>\n",
       "    <tr>\n",
       "      <th>3</th>\n",
       "      <td>1.0</td>\n",
       "      <td>88.80</td>\n",
       "      <td>2012</td>\n",
       "      <td>72000</td>\n",
       "    </tr>\n",
       "    <tr>\n",
       "      <th>4</th>\n",
       "      <td>1.0</td>\n",
       "      <td>121.30</td>\n",
       "      <td>2019</td>\n",
       "      <td>5000</td>\n",
       "    </tr>\n",
       "    <tr>\n",
       "      <th>...</th>\n",
       "      <td>...</td>\n",
       "      <td>...</td>\n",
       "      <td>...</td>\n",
       "      <td>...</td>\n",
       "    </tr>\n",
       "    <tr>\n",
       "      <th>1590</th>\n",
       "      <td>1.0</td>\n",
       "      <td>67.04</td>\n",
       "      <td>2017</td>\n",
       "      <td>12000</td>\n",
       "    </tr>\n",
       "    <tr>\n",
       "      <th>1591</th>\n",
       "      <td>1.0</td>\n",
       "      <td>67.06</td>\n",
       "      <td>2014</td>\n",
       "      <td>50000</td>\n",
       "    </tr>\n",
       "    <tr>\n",
       "      <th>1592</th>\n",
       "      <td>1.0</td>\n",
       "      <td>102.00</td>\n",
       "      <td>2010</td>\n",
       "      <td>129000</td>\n",
       "    </tr>\n",
       "    <tr>\n",
       "      <th>1593</th>\n",
       "      <td>1.0</td>\n",
       "      <td>37.00</td>\n",
       "      <td>1997</td>\n",
       "      <td>120000</td>\n",
       "    </tr>\n",
       "    <tr>\n",
       "      <th>1594</th>\n",
       "      <td>1.0</td>\n",
       "      <td>73.90</td>\n",
       "      <td>2009</td>\n",
       "      <td>120000</td>\n",
       "    </tr>\n",
       "  </tbody>\n",
       "</table>\n",
       "<p>1595 rows × 4 columns</p>\n",
       "</div>"
      ],
      "text/plain": [
       "      const  power_bhp  year  km_driven\n",
       "0       1.0      88.20  2007     120000\n",
       "1       1.0      88.50  2016      70000\n",
       "2       1.0      90.00  2012      53000\n",
       "3       1.0      88.80  2012      72000\n",
       "4       1.0     121.30  2019       5000\n",
       "...     ...        ...   ...        ...\n",
       "1590    1.0      67.04  2017      12000\n",
       "1591    1.0      67.06  2014      50000\n",
       "1592    1.0     102.00  2010     129000\n",
       "1593    1.0      37.00  1997     120000\n",
       "1594    1.0      73.90  2009     120000\n",
       "\n",
       "[1595 rows x 4 columns]"
      ]
     },
     "execution_count": 45,
     "metadata": {},
     "output_type": "execute_result"
    }
   ],
   "source": [
    "X = [sm.add_constant(pd.merge(included_df,remaining_var[column], right_index = True, left_index = True))\\\n",
    "     for column in remaining_var.columns]\n",
    "X[0]"
   ]
  },
  {
   "cell_type": "code",
   "execution_count": 46,
   "metadata": {
    "colab": {
     "base_uri": "https://localhost:8080/"
    },
    "executionInfo": {
     "elapsed": 194,
     "status": "ok",
     "timestamp": 1737422829673,
     "user": {
      "displayName": "Alibek Kruglikov",
      "userId": "12107629968185180200"
     },
     "user_tz": 300
    },
    "id": "mKywYmTI-UJs",
    "outputId": "0a9cc0ee-b83a-4a5f-d965-695815faac44"
   },
   "outputs": [
    {
     "name": "stdout",
     "output_type": "stream",
     "text": [
      "adj_R2: 0.653, P-values: (1.3816439156385271e-24, 1.178644497776337e-300, 3.424871367223632e-24, 6.940265994746827e-16), column: km_driven\n",
      "adj_R2: 0.640, P-values: (3.1533552790888426e-35, 9.663792642458213e-290, 8.600152533651299e-35, 0.006191716039317062), column: owners\n",
      "adj_R2: 0.647, P-values: (3.2587569499225727e-31, 1.0195263014624281e-265, 5.95021598502424e-30, 3.9091747859176427e-10), column: kmpl\n",
      "adj_R2: 0.644, P-values: (2.3233700604729166e-46, 2.507174409756991e-198, 1.0856379138605711e-45, 1.0046581761524496e-06), column: engine_cc\n",
      "adj_R2: 0.650, P-values: (5.766392969574568e-53, 1.2532079582557817e-298, 1.4546564360140079e-52, 2.635421899880754e-12), column: seats\n"
     ]
    }
   ],
   "source": [
    "Models = [sm.OLS(y,x) for x in X] #list of models\n",
    "Results = [model.fit() for model in Models] #list of results\n",
    "Adj_Rsquared = [results.rsquared_adj for results in Results] #list of rsquared\n",
    "Pval = [results.pvalues for results in Results] #list of list of p-values\n",
    "\n",
    "for i in range(len(Adj_Rsquared)):\n",
    "     print(f'adj_R2: {Adj_Rsquared[i]:.3f}, P-values: {*Pval[i],}, column: {remaining_var.columns[i]}')"
   ]
  },
  {
   "cell_type": "code",
   "execution_count": 48,
   "metadata": {
    "colab": {
     "base_uri": "https://localhost:8080/"
    },
    "executionInfo": {
     "elapsed": 79,
     "status": "ok",
     "timestamp": 1737422898366,
     "user": {
      "displayName": "Alibek Kruglikov",
      "userId": "12107629968185180200"
     },
     "user_tz": 300
    },
    "id": "LAPlBj_F-UHD",
    "outputId": "df8d3930-da45-4785-e5cf-8fe789719cd3"
   },
   "outputs": [
    {
     "name": "stdout",
     "output_type": "stream",
     "text": [
      "adj_R2: 0.654, P-values: (1.4025386685127594e-17, 4.446218328548049e-301, 2.4623940605327195e-17, 4.8209299914354366e-15, 0.054019726034480256), column: owners\n",
      "adj_R2: 0.661, P-values: (4.520416085986753e-13, 1.1364963748394605e-275, 1.6934225012921259e-12, 2.223464071174374e-15, 1.2561337248199944e-09), column: kmpl\n",
      "adj_R2: 0.654, P-values: (4.697111808363257e-24, 2.525630867086824e-184, 1.1055318498053675e-23, 8.273175074370822e-12, 0.019072029389475314), column: engine_cc\n",
      "adj_R2: 0.658, P-values: (2.9756095590785835e-26, 1.4477809213133792e-304, 5.446723779115383e-26, 1.4285901026167884e-10, 5.95437158704148e-07), column: seats\n"
     ]
    }
   ],
   "source": [
    "remaining_var = car_df.drop(['selling_price', 'power_bhp', 'year', 'km_driven'], axis=1)\n",
    "included_df = car_df[['power_bhp', 'year', 'km_driven']]\n",
    "\n",
    "X = [sm.add_constant(pd.merge(included_df,remaining_var[column], right_index = True, left_index = True))\\\n",
    "     for column in remaining_var.columns]\n",
    "\n",
    "Models = [sm.OLS(y,x) for x in X] #list of models\n",
    "Results = [model.fit() for model in Models] #list of results\n",
    "Adj_Rsquared = [results.rsquared_adj for results in Results] #list of rsquared\n",
    "Pval = [results.pvalues for results in Results] #list of list of p-values\n",
    "\n",
    "for i in range(len(Adj_Rsquared)):\n",
    "     print(f'adj_R2: {Adj_Rsquared[i]:.3f}, P-values: {*Pval[i],}, column: {remaining_var.columns[i]}')"
   ]
  },
  {
   "cell_type": "markdown",
   "metadata": {
    "id": "yXug1mBTrfpN"
   },
   "source": [
    "Hopefully you get the point. We eventually settle on a \"best model\". This whole process can be quite time consuming! Usually a different selection method is preferred:"
   ]
  },
  {
   "cell_type": "markdown",
   "metadata": {
    "id": "XG5QdhJBrfpN"
   },
   "source": [
    "#### Backward Selection\n",
    "1. Build a model that contains all variables\n",
    "    - selling\\_price = b_0+b_1(year) + b_2(km\\_driven) + b_3(fuel) + ...\n",
    "2. Remove one variable at a time usually based on p-value.\n",
    "3. Repeat until you hit some stopping criteria (maybe adj. R<sup>2</sup> stops increasing).\n",
    "\n",
    "![](images/backward_selection.png)\n",
    "\n"
   ]
  },
  {
   "cell_type": "code",
   "execution_count": 49,
   "metadata": {
    "colab": {
     "base_uri": "https://localhost:8080/"
    },
    "executionInfo": {
     "elapsed": 193,
     "status": "ok",
     "timestamp": 1737423101818,
     "user": {
      "displayName": "Alibek Kruglikov",
      "userId": "12107629968185180200"
     },
     "user_tz": 300
    },
    "id": "syGZzgbdrfpN",
    "outputId": "a5738274-5d08-4672-a9a8-a3edbdefe633"
   },
   "outputs": [
    {
     "name": "stdout",
     "output_type": "stream",
     "text": [
      "                            OLS Regression Results                            \n",
      "==============================================================================\n",
      "Dep. Variable:          selling_price   R-squared:                       0.665\n",
      "Model:                            OLS   Adj. R-squared:                  0.663\n",
      "Method:                 Least Squares   F-statistic:                     449.6\n",
      "Date:                Thu, 06 Feb 2025   Prob (F-statistic):               0.00\n",
      "Time:                        11:01:00   Log-Likelihood:                -23231.\n",
      "No. Observations:                1595   AIC:                         4.648e+04\n",
      "Df Residuals:                    1587   BIC:                         4.652e+04\n",
      "Df Model:                           7                                         \n",
      "Covariance Type:            nonrobust                                         \n",
      "==============================================================================\n",
      "                 coef    std err          t      P>|t|      [0.025      0.975]\n",
      "------------------------------------------------------------------------------\n",
      "const       -6.48e+07   1.02e+07     -6.354      0.000   -8.48e+07   -4.48e+07\n",
      "year        3.166e+04   5091.521      6.217      0.000    2.17e+04    4.16e+04\n",
      "km_driven     -2.2522      0.320     -7.029      0.000      -2.881      -1.624\n",
      "owners     -4.152e+04   2.14e+04     -1.937      0.053   -8.35e+04     513.940\n",
      "kmpl         2.19e+04   4717.205      4.642      0.000    1.26e+04    3.12e+04\n",
      "engine_cc    116.2561     54.374      2.138      0.033       9.603     222.909\n",
      "power_bhp   1.811e+04    629.616     28.765      0.000    1.69e+04    1.93e+04\n",
      "seats      -6.228e+04   1.98e+04     -3.146      0.002   -1.01e+05   -2.34e+04\n",
      "==============================================================================\n",
      "Omnibus:                      825.210   Durbin-Watson:                   1.803\n",
      "Prob(Omnibus):                  0.000   Jarque-Bera (JB):             8420.276\n",
      "Skew:                           2.197   Prob(JB):                         0.00\n",
      "Kurtosis:                      13.363   Cond. No.                     6.70e+07\n",
      "==============================================================================\n",
      "\n",
      "Notes:\n",
      "[1] Standard Errors assume that the covariance matrix of the errors is correctly specified.\n",
      "[2] The condition number is large, 6.7e+07. This might indicate that there are\n",
      "strong multicollinearity or other numerical problems.\n"
     ]
    }
   ],
   "source": [
    "#run full model\n",
    "y = car_df['selling_price']\n",
    "X = car_df.drop('selling_price', axis=1)\n",
    "X = sm.add_constant(X) #adds a column of 1's so the model will contain an intercept\n",
    "\n",
    "model = sm.OLS(y, X)\n",
    "results = model.fit()\n",
    "print(results.summary())"
   ]
  },
  {
   "cell_type": "markdown",
   "metadata": {
    "id": "17xcVmUGrfpN"
   },
   "source": [
    "Notice the Adj. R-Squared and p-value for each of the coefficients. The coefficient for 'owners' seems to be the only variable that has a p-value > 0.05. Let's try removing it and running another model."
   ]
  },
  {
   "cell_type": "code",
   "execution_count": 50,
   "metadata": {
    "colab": {
     "base_uri": "https://localhost:8080/"
    },
    "executionInfo": {
     "elapsed": 175,
     "status": "ok",
     "timestamp": 1737423238448,
     "user": {
      "displayName": "Alibek Kruglikov",
      "userId": "12107629968185180200"
     },
     "user_tz": 300
    },
    "id": "dBzdZ7Fk-czV",
    "outputId": "6bc88642-7a37-4a1d-9238-340472e39556"
   },
   "outputs": [
    {
     "name": "stdout",
     "output_type": "stream",
     "text": [
      "                            OLS Regression Results                            \n",
      "==============================================================================\n",
      "Dep. Variable:          selling_price   R-squared:                       0.664\n",
      "Model:                            OLS   Adj. R-squared:                  0.663\n",
      "Method:                 Least Squares   F-statistic:                     523.0\n",
      "Date:                Thu, 06 Feb 2025   Prob (F-statistic):               0.00\n",
      "Time:                        11:03:47   Log-Likelihood:                -23233.\n",
      "No. Observations:                1595   AIC:                         4.648e+04\n",
      "Df Residuals:                    1588   BIC:                         4.652e+04\n",
      "Df Model:                           6                                         \n",
      "Covariance Type:            nonrobust                                         \n",
      "==============================================================================\n",
      "                 coef    std err          t      P>|t|      [0.025      0.975]\n",
      "------------------------------------------------------------------------------\n",
      "const      -7.258e+07   9.38e+06     -7.735      0.000    -9.1e+07   -5.42e+07\n",
      "year         3.55e+04   4694.064      7.562      0.000    2.63e+04    4.47e+04\n",
      "km_driven     -2.3151      0.319     -7.256      0.000      -2.941      -1.689\n",
      "kmpl        2.169e+04   4720.015      4.595      0.000    1.24e+04    3.09e+04\n",
      "engine_cc    120.3224     54.381      2.213      0.027      13.656     226.989\n",
      "power_bhp   1.806e+04    629.580     28.683      0.000    1.68e+04    1.93e+04\n",
      "seats      -6.399e+04   1.98e+04     -3.233      0.001   -1.03e+05   -2.52e+04\n",
      "==============================================================================\n",
      "Omnibus:                      826.788   Durbin-Watson:                   1.799\n",
      "Prob(Omnibus):                  0.000   Jarque-Bera (JB):             8454.458\n",
      "Skew:                           2.201   Prob(JB):                         0.00\n",
      "Kurtosis:                      13.384   Cond. No.                     6.16e+07\n",
      "==============================================================================\n",
      "\n",
      "Notes:\n",
      "[1] Standard Errors assume that the covariance matrix of the errors is correctly specified.\n",
      "[2] The condition number is large, 6.16e+07. This might indicate that there are\n",
      "strong multicollinearity or other numerical problems.\n"
     ]
    }
   ],
   "source": [
    "#run full model\n",
    "y = car_df['selling_price']\n",
    "X = car_df.drop(['selling_price', 'owners'], axis=1)\n",
    "X = sm.add_constant(X) #adds a column of 1's so the model will contain an intercept\n",
    "\n",
    "model = sm.OLS(y, X)\n",
    "results = model.fit()\n",
    "print(results.summary())"
   ]
  },
  {
   "cell_type": "code",
   "execution_count": 51,
   "metadata": {
    "colab": {
     "base_uri": "https://localhost:8080/"
    },
    "executionInfo": {
     "elapsed": 187,
     "status": "ok",
     "timestamp": 1737423311941,
     "user": {
      "displayName": "Alibek Kruglikov",
      "userId": "12107629968185180200"
     },
     "user_tz": 300
    },
    "id": "oyVMWkbF-cwj",
    "outputId": "6e80ec4c-d8d2-485b-b36a-da2ee246790a"
   },
   "outputs": [
    {
     "name": "stdout",
     "output_type": "stream",
     "text": [
      "                            OLS Regression Results                            \n",
      "==============================================================================\n",
      "Dep. Variable:          selling_price   R-squared:                       0.663\n",
      "Model:                            OLS   Adj. R-squared:                  0.662\n",
      "Method:                 Least Squares   F-statistic:                     625.0\n",
      "Date:                Thu, 06 Feb 2025   Prob (F-statistic):               0.00\n",
      "Time:                        11:04:48   Log-Likelihood:                -23235.\n",
      "No. Observations:                1595   AIC:                         4.648e+04\n",
      "Df Residuals:                    1589   BIC:                         4.651e+04\n",
      "Df Model:                           5                                         \n",
      "Covariance Type:            nonrobust                                         \n",
      "==============================================================================\n",
      "                 coef    std err          t      P>|t|      [0.025      0.975]\n",
      "------------------------------------------------------------------------------\n",
      "const      -7.221e+07   9.39e+06     -7.688      0.000   -9.06e+07   -5.38e+07\n",
      "year         3.53e+04   4699.015      7.513      0.000    2.61e+04    4.45e+04\n",
      "km_driven     -2.1511      0.311     -6.923      0.000      -2.761      -1.542\n",
      "kmpl        1.949e+04   4620.090      4.219      0.000    1.04e+04    2.86e+04\n",
      "power_bhp   1.906e+04    438.359     43.479      0.000    1.82e+04    1.99e+04\n",
      "seats       -3.92e+04   1.63e+04     -2.400      0.017   -7.12e+04   -7156.984\n",
      "==============================================================================\n",
      "Omnibus:                      810.398   Durbin-Watson:                   1.805\n",
      "Prob(Omnibus):                  0.000   Jarque-Bera (JB):             7955.990\n",
      "Skew:                           2.160   Prob(JB):                         0.00\n",
      "Kurtosis:                      13.053   Cond. No.                     6.16e+07\n",
      "==============================================================================\n",
      "\n",
      "Notes:\n",
      "[1] Standard Errors assume that the covariance matrix of the errors is correctly specified.\n",
      "[2] The condition number is large, 6.16e+07. This might indicate that there are\n",
      "strong multicollinearity or other numerical problems.\n"
     ]
    }
   ],
   "source": [
    "#run full model\n",
    "y = car_df['selling_price']\n",
    "X = car_df.drop(['selling_price', 'owners', 'engine_cc'], axis=1)\n",
    "X = sm.add_constant(X) #adds a column of 1's so the model will contain an intercept\n",
    "\n",
    "model = sm.OLS(y, X)\n",
    "results = model.fit()\n",
    "print(results.summary())"
   ]
  },
  {
   "cell_type": "code",
   "execution_count": 52,
   "metadata": {
    "colab": {
     "base_uri": "https://localhost:8080/"
    },
    "executionInfo": {
     "elapsed": 117,
     "status": "ok",
     "timestamp": 1737423363403,
     "user": {
      "displayName": "Alibek Kruglikov",
      "userId": "12107629968185180200"
     },
     "user_tz": 300
    },
    "id": "CszALm2ogFJz",
    "outputId": "f7a19d9b-b030-47d7-dcb6-6a4bcfc23597"
   },
   "outputs": [
    {
     "name": "stdout",
     "output_type": "stream",
     "text": [
      "                            OLS Regression Results                            \n",
      "==============================================================================\n",
      "Dep. Variable:          selling_price   R-squared:                       0.662\n",
      "Model:                            OLS   Adj. R-squared:                  0.661\n",
      "Method:                 Least Squares   F-statistic:                     777.5\n",
      "Date:                Thu, 06 Feb 2025   Prob (F-statistic):               0.00\n",
      "Time:                        11:05:12   Log-Likelihood:                -23238.\n",
      "No. Observations:                1595   AIC:                         4.649e+04\n",
      "Df Residuals:                    1590   BIC:                         4.651e+04\n",
      "Df Model:                           4                                         \n",
      "Covariance Type:            nonrobust                                         \n",
      "==============================================================================\n",
      "                 coef    std err          t      P>|t|      [0.025      0.975]\n",
      "------------------------------------------------------------------------------\n",
      "const      -6.609e+07   9.05e+06     -7.300      0.000   -8.38e+07   -4.83e+07\n",
      "year        3.211e+04   4513.186      7.114      0.000    2.33e+04     4.1e+04\n",
      "km_driven     -2.3760      0.297     -8.008      0.000      -2.958      -1.794\n",
      "kmpl        2.481e+04   4060.369      6.109      0.000    1.68e+04    3.28e+04\n",
      "power_bhp   1.916e+04    437.190     43.814      0.000    1.83e+04       2e+04\n",
      "==============================================================================\n",
      "Omnibus:                      826.001   Durbin-Watson:                   1.798\n",
      "Prob(Omnibus):                  0.000   Jarque-Bera (JB):             8374.106\n",
      "Skew:                           2.202   Prob(JB):                         0.00\n",
      "Kurtosis:                      13.325   Cond. No.                     5.93e+07\n",
      "==============================================================================\n",
      "\n",
      "Notes:\n",
      "[1] Standard Errors assume that the covariance matrix of the errors is correctly specified.\n",
      "[2] The condition number is large, 5.93e+07. This might indicate that there are\n",
      "strong multicollinearity or other numerical problems.\n"
     ]
    }
   ],
   "source": [
    "#run full model\n",
    "y = car_df['selling_price']\n",
    "X = car_df.drop(['selling_price', 'owners', 'engine_cc', 'seats'], axis=1)\n",
    "X = sm.add_constant(X) #adds a column of 1's so the model will contain an intercept\n",
    "\n",
    "model = sm.OLS(y, X)\n",
    "results = model.fit()\n",
    "print(results.summary())"
   ]
  },
  {
   "cell_type": "markdown",
   "metadata": {
    "id": "yE7qlUTdrfpP"
   },
   "source": [
    "At this point, we'd probably just stick with this model. All coefficients have significant p-values."
   ]
  },
  {
   "cell_type": "markdown",
   "metadata": {
    "id": "XtikiRWsrfpP"
   },
   "source": [
    "#### Stepwise Selection\n",
    "- A combination of forward and backward selection.\n",
    "\n",
    "#### Forward vs Backward Selection\n",
    "- Forward selection is better when there are more variables than datapoints. Otherwise backward selection is typically used.\n",
    "- Backward can consider the effects of all variables simultaneously.\n",
    "- Different selection methods can give different results: an inexact science.\n",
    "    - Notice in the backward selection model, engine_cc would have been the next to be eliminated if sig. level=0.01 instead of 0.05\n",
    "- Over this process you'll find out which variables tend to get eliminated and which tend to be kept (hopefully)."
   ]
  },
  {
   "cell_type": "markdown",
   "metadata": {
    "id": "A_stlqr9rfpP"
   },
   "source": [
    "## Classification Example\n",
    "\n",
    "The exact same process can be used when building a logistic regression model. Perhaps we only have information on if the selling price of a car is greater than 500000 or not."
   ]
  },
  {
   "cell_type": "code",
   "execution_count": 53,
   "metadata": {
    "colab": {
     "base_uri": "https://localhost:8080/",
     "height": 206
    },
    "executionInfo": {
     "elapsed": 141,
     "status": "ok",
     "timestamp": 1737423646108,
     "user": {
      "displayName": "Alibek Kruglikov",
      "userId": "12107629968185180200"
     },
     "user_tz": 300
    },
    "id": "srqZewjNrfpQ",
    "outputId": "7ac4991f-068f-47c1-d707-81965e5da92a",
    "scrolled": true
   },
   "outputs": [
    {
     "data": {
      "text/html": [
       "<div>\n",
       "<style scoped>\n",
       "    .dataframe tbody tr th:only-of-type {\n",
       "        vertical-align: middle;\n",
       "    }\n",
       "\n",
       "    .dataframe tbody tr th {\n",
       "        vertical-align: top;\n",
       "    }\n",
       "\n",
       "    .dataframe thead th {\n",
       "        text-align: right;\n",
       "    }\n",
       "</style>\n",
       "<table border=\"1\" class=\"dataframe\">\n",
       "  <thead>\n",
       "    <tr style=\"text-align: right;\">\n",
       "      <th></th>\n",
       "      <th>selling_price</th>\n",
       "      <th>year</th>\n",
       "      <th>km_driven</th>\n",
       "      <th>owners</th>\n",
       "      <th>kmpl</th>\n",
       "      <th>engine_cc</th>\n",
       "      <th>power_bhp</th>\n",
       "      <th>seats</th>\n",
       "    </tr>\n",
       "  </thead>\n",
       "  <tbody>\n",
       "    <tr>\n",
       "      <th>0</th>\n",
       "      <td>130000</td>\n",
       "      <td>2007</td>\n",
       "      <td>120000</td>\n",
       "      <td>1</td>\n",
       "      <td>16.10</td>\n",
       "      <td>1298</td>\n",
       "      <td>88.2</td>\n",
       "      <td>5</td>\n",
       "    </tr>\n",
       "    <tr>\n",
       "      <th>1</th>\n",
       "      <td>778000</td>\n",
       "      <td>2016</td>\n",
       "      <td>70000</td>\n",
       "      <td>2</td>\n",
       "      <td>24.52</td>\n",
       "      <td>1248</td>\n",
       "      <td>88.5</td>\n",
       "      <td>7</td>\n",
       "    </tr>\n",
       "    <tr>\n",
       "      <th>2</th>\n",
       "      <td>500000</td>\n",
       "      <td>2012</td>\n",
       "      <td>53000</td>\n",
       "      <td>2</td>\n",
       "      <td>23.00</td>\n",
       "      <td>1396</td>\n",
       "      <td>90.0</td>\n",
       "      <td>5</td>\n",
       "    </tr>\n",
       "    <tr>\n",
       "      <th>3</th>\n",
       "      <td>600000</td>\n",
       "      <td>2012</td>\n",
       "      <td>72000</td>\n",
       "      <td>1</td>\n",
       "      <td>21.50</td>\n",
       "      <td>1248</td>\n",
       "      <td>88.8</td>\n",
       "      <td>5</td>\n",
       "    </tr>\n",
       "    <tr>\n",
       "      <th>4</th>\n",
       "      <td>1149000</td>\n",
       "      <td>2019</td>\n",
       "      <td>5000</td>\n",
       "      <td>1</td>\n",
       "      <td>17.00</td>\n",
       "      <td>1591</td>\n",
       "      <td>121.3</td>\n",
       "      <td>5</td>\n",
       "    </tr>\n",
       "  </tbody>\n",
       "</table>\n",
       "</div>"
      ],
      "text/plain": [
       "   selling_price  year  km_driven  owners   kmpl  engine_cc  power_bhp  seats\n",
       "0         130000  2007     120000       1  16.10       1298       88.2      5\n",
       "1         778000  2016      70000       2  24.52       1248       88.5      7\n",
       "2         500000  2012      53000       2  23.00       1396       90.0      5\n",
       "3         600000  2012      72000       1  21.50       1248       88.8      5\n",
       "4        1149000  2019       5000       1  17.00       1591      121.3      5"
      ]
     },
     "execution_count": 53,
     "metadata": {},
     "output_type": "execute_result"
    }
   ],
   "source": [
    "car_df.head()"
   ]
  },
  {
   "cell_type": "code",
   "execution_count": 54,
   "metadata": {
    "colab": {
     "base_uri": "https://localhost:8080/",
     "height": 423
    },
    "executionInfo": {
     "elapsed": 121,
     "status": "ok",
     "timestamp": 1737423652104,
     "user": {
      "displayName": "Alibek Kruglikov",
      "userId": "12107629968185180200"
     },
     "user_tz": 300
    },
    "id": "-DPyJWdMrfpQ",
    "outputId": "002b5dfb-2118-4aaa-a26a-9f6b6d106dae"
   },
   "outputs": [
    {
     "data": {
      "text/html": [
       "<div>\n",
       "<style scoped>\n",
       "    .dataframe tbody tr th:only-of-type {\n",
       "        vertical-align: middle;\n",
       "    }\n",
       "\n",
       "    .dataframe tbody tr th {\n",
       "        vertical-align: top;\n",
       "    }\n",
       "\n",
       "    .dataframe thead th {\n",
       "        text-align: right;\n",
       "    }\n",
       "</style>\n",
       "<table border=\"1\" class=\"dataframe\">\n",
       "  <thead>\n",
       "    <tr style=\"text-align: right;\">\n",
       "      <th></th>\n",
       "      <th>year</th>\n",
       "      <th>km_driven</th>\n",
       "      <th>owners</th>\n",
       "      <th>kmpl</th>\n",
       "      <th>engine_cc</th>\n",
       "      <th>power_bhp</th>\n",
       "      <th>seats</th>\n",
       "      <th>expensive</th>\n",
       "    </tr>\n",
       "  </thead>\n",
       "  <tbody>\n",
       "    <tr>\n",
       "      <th>0</th>\n",
       "      <td>2007</td>\n",
       "      <td>120000</td>\n",
       "      <td>1</td>\n",
       "      <td>16.10</td>\n",
       "      <td>1298</td>\n",
       "      <td>88.20</td>\n",
       "      <td>5</td>\n",
       "      <td>0</td>\n",
       "    </tr>\n",
       "    <tr>\n",
       "      <th>1</th>\n",
       "      <td>2016</td>\n",
       "      <td>70000</td>\n",
       "      <td>2</td>\n",
       "      <td>24.52</td>\n",
       "      <td>1248</td>\n",
       "      <td>88.50</td>\n",
       "      <td>7</td>\n",
       "      <td>1</td>\n",
       "    </tr>\n",
       "    <tr>\n",
       "      <th>2</th>\n",
       "      <td>2012</td>\n",
       "      <td>53000</td>\n",
       "      <td>2</td>\n",
       "      <td>23.00</td>\n",
       "      <td>1396</td>\n",
       "      <td>90.00</td>\n",
       "      <td>5</td>\n",
       "      <td>0</td>\n",
       "    </tr>\n",
       "    <tr>\n",
       "      <th>3</th>\n",
       "      <td>2012</td>\n",
       "      <td>72000</td>\n",
       "      <td>1</td>\n",
       "      <td>21.50</td>\n",
       "      <td>1248</td>\n",
       "      <td>88.80</td>\n",
       "      <td>5</td>\n",
       "      <td>1</td>\n",
       "    </tr>\n",
       "    <tr>\n",
       "      <th>4</th>\n",
       "      <td>2019</td>\n",
       "      <td>5000</td>\n",
       "      <td>1</td>\n",
       "      <td>17.00</td>\n",
       "      <td>1591</td>\n",
       "      <td>121.30</td>\n",
       "      <td>5</td>\n",
       "      <td>1</td>\n",
       "    </tr>\n",
       "    <tr>\n",
       "      <th>...</th>\n",
       "      <td>...</td>\n",
       "      <td>...</td>\n",
       "      <td>...</td>\n",
       "      <td>...</td>\n",
       "      <td>...</td>\n",
       "      <td>...</td>\n",
       "      <td>...</td>\n",
       "      <td>...</td>\n",
       "    </tr>\n",
       "    <tr>\n",
       "      <th>1590</th>\n",
       "      <td>2017</td>\n",
       "      <td>12000</td>\n",
       "      <td>1</td>\n",
       "      <td>23.10</td>\n",
       "      <td>998</td>\n",
       "      <td>67.04</td>\n",
       "      <td>5</td>\n",
       "      <td>0</td>\n",
       "    </tr>\n",
       "    <tr>\n",
       "      <th>1591</th>\n",
       "      <td>2014</td>\n",
       "      <td>50000</td>\n",
       "      <td>1</td>\n",
       "      <td>23.59</td>\n",
       "      <td>1364</td>\n",
       "      <td>67.06</td>\n",
       "      <td>5</td>\n",
       "      <td>0</td>\n",
       "    </tr>\n",
       "    <tr>\n",
       "      <th>1592</th>\n",
       "      <td>2010</td>\n",
       "      <td>129000</td>\n",
       "      <td>1</td>\n",
       "      <td>12.80</td>\n",
       "      <td>2494</td>\n",
       "      <td>102.00</td>\n",
       "      <td>8</td>\n",
       "      <td>0</td>\n",
       "    </tr>\n",
       "    <tr>\n",
       "      <th>1593</th>\n",
       "      <td>1997</td>\n",
       "      <td>120000</td>\n",
       "      <td>1</td>\n",
       "      <td>16.10</td>\n",
       "      <td>796</td>\n",
       "      <td>37.00</td>\n",
       "      <td>4</td>\n",
       "      <td>0</td>\n",
       "    </tr>\n",
       "    <tr>\n",
       "      <th>1594</th>\n",
       "      <td>2009</td>\n",
       "      <td>120000</td>\n",
       "      <td>1</td>\n",
       "      <td>19.30</td>\n",
       "      <td>1248</td>\n",
       "      <td>73.90</td>\n",
       "      <td>5</td>\n",
       "      <td>0</td>\n",
       "    </tr>\n",
       "  </tbody>\n",
       "</table>\n",
       "<p>1595 rows × 8 columns</p>\n",
       "</div>"
      ],
      "text/plain": [
       "      year  km_driven  owners   kmpl  engine_cc  power_bhp  seats  expensive\n",
       "0     2007     120000       1  16.10       1298      88.20      5          0\n",
       "1     2016      70000       2  24.52       1248      88.50      7          1\n",
       "2     2012      53000       2  23.00       1396      90.00      5          0\n",
       "3     2012      72000       1  21.50       1248      88.80      5          1\n",
       "4     2019       5000       1  17.00       1591     121.30      5          1\n",
       "...    ...        ...     ...    ...        ...        ...    ...        ...\n",
       "1590  2017      12000       1  23.10        998      67.04      5          0\n",
       "1591  2014      50000       1  23.59       1364      67.06      5          0\n",
       "1592  2010     129000       1  12.80       2494     102.00      8          0\n",
       "1593  1997     120000       1  16.10        796      37.00      4          0\n",
       "1594  2009     120000       1  19.30       1248      73.90      5          0\n",
       "\n",
       "[1595 rows x 8 columns]"
      ]
     },
     "execution_count": 54,
     "metadata": {},
     "output_type": "execute_result"
    }
   ],
   "source": [
    "import numpy as np\n",
    "car_df['expensive'] = np.where(car_df['selling_price']>500000, 1, 0)\n",
    "car_exp_df = car_df.drop(['selling_price'], axis=1)\n",
    "car_exp_df"
   ]
  },
  {
   "cell_type": "markdown",
   "metadata": {
    "id": "3LvETxA8rfpQ"
   },
   "source": [
    "So 'expensive' is our binary dependent variable and we will consider the rest as potential independent variables. Let's use backwards selection for convenience :)"
   ]
  },
  {
   "cell_type": "code",
   "execution_count": 55,
   "metadata": {
    "colab": {
     "base_uri": "https://localhost:8080/"
    },
    "executionInfo": {
     "elapsed": 95,
     "status": "ok",
     "timestamp": 1737423692670,
     "user": {
      "displayName": "Alibek Kruglikov",
      "userId": "12107629968185180200"
     },
     "user_tz": 300
    },
    "id": "AIiTivPWrfpQ",
    "outputId": "c97a25e4-04e5-45cb-c8b4-9eed22985dd3"
   },
   "outputs": [
    {
     "name": "stdout",
     "output_type": "stream",
     "text": [
      "Optimization terminated successfully.\n",
      "         Current function value: 0.304869\n",
      "         Iterations 10\n",
      "                           Logit Regression Results                           \n",
      "==============================================================================\n",
      "Dep. Variable:              expensive   No. Observations:                 1595\n",
      "Model:                          Logit   Df Residuals:                     1587\n",
      "Method:                           MLE   Df Model:                            7\n",
      "Date:                Thu, 06 Feb 2025   Pseudo R-squ.:                  0.5592\n",
      "Time:                        11:13:38   Log-Likelihood:                -486.27\n",
      "converged:                       True   LL-Null:                       -1103.1\n",
      "Covariance Type:            nonrobust   LLR p-value:                3.753e-262\n",
      "==============================================================================\n",
      "                 coef    std err          z      P>|z|      [0.025      0.975]\n",
      "------------------------------------------------------------------------------\n",
      "const      -1405.5027    100.711    -13.956      0.000   -1602.893   -1208.113\n",
      "year           0.6897      0.050     13.857      0.000       0.592       0.787\n",
      "km_driven   6.152e-07   2.04e-06      0.302      0.763   -3.38e-06    4.61e-06\n",
      "owners        -0.4287      0.150     -2.865      0.004      -0.722      -0.135\n",
      "kmpl           0.1988      0.029      6.776      0.000       0.141       0.256\n",
      "engine_cc      0.0015      0.000      4.324      0.000       0.001       0.002\n",
      "power_bhp      0.0726      0.006     12.117      0.000       0.061       0.084\n",
      "seats          0.6499      0.126      5.140      0.000       0.402       0.898\n",
      "==============================================================================\n"
     ]
    }
   ],
   "source": [
    "y = car_exp_df['expensive']\n",
    "X  = car_exp_df.drop(['expensive'], axis=1)\n",
    "X = sm.add_constant(X) #adds a column of 1's so the model will contain an intercept\n",
    "\n",
    "model = sm.Logit(y,X)\n",
    "results = model.fit()\n",
    "print(results.summary())"
   ]
  },
  {
   "cell_type": "code",
   "execution_count": 56,
   "metadata": {
    "colab": {
     "base_uri": "https://localhost:8080/"
    },
    "executionInfo": {
     "elapsed": 5,
     "status": "ok",
     "timestamp": 1737423774052,
     "user": {
      "displayName": "Alibek Kruglikov",
      "userId": "12107629968185180200"
     },
     "user_tz": 300
    },
    "id": "KjY7_KM2htay",
    "outputId": "bebb7bdf-d97b-435a-a4fb-6cf7348982c0"
   },
   "outputs": [
    {
     "data": {
      "text/plain": [
       "988.5324370249298"
      ]
     },
     "execution_count": 56,
     "metadata": {},
     "output_type": "execute_result"
    }
   ],
   "source": [
    "results.aic"
   ]
  },
  {
   "cell_type": "markdown",
   "metadata": {
    "id": "pI6SAiWVrfpQ"
   },
   "source": [
    "The p-value for the km_drive coefficient is >0.05. Let's try removing that from the model."
   ]
  },
  {
   "cell_type": "code",
   "execution_count": 57,
   "metadata": {
    "colab": {
     "base_uri": "https://localhost:8080/"
    },
    "executionInfo": {
     "elapsed": 178,
     "status": "ok",
     "timestamp": 1737423824924,
     "user": {
      "displayName": "Alibek Kruglikov",
      "userId": "12107629968185180200"
     },
     "user_tz": 300
    },
    "id": "D-VAVk9wEW-L",
    "outputId": "e35b9f9c-585d-4308-a3aa-3e54aff43665"
   },
   "outputs": [
    {
     "name": "stdout",
     "output_type": "stream",
     "text": [
      "Optimization terminated successfully.\n",
      "         Current function value: 0.304897\n",
      "         Iterations 9\n",
      "                           Logit Regression Results                           \n",
      "==============================================================================\n",
      "Dep. Variable:              expensive   No. Observations:                 1595\n",
      "Model:                          Logit   Df Residuals:                     1588\n",
      "Method:                           MLE   Df Model:                            6\n",
      "Date:                Thu, 06 Feb 2025   Pseudo R-squ.:                  0.5591\n",
      "Time:                        11:17:00   Log-Likelihood:                -486.31\n",
      "converged:                       True   LL-Null:                       -1103.1\n",
      "Covariance Type:            nonrobust   LLR p-value:                2.625e-263\n",
      "==============================================================================\n",
      "                 coef    std err          z      P>|z|      [0.025      0.975]\n",
      "------------------------------------------------------------------------------\n",
      "const      -1394.8604     94.087    -14.825      0.000   -1579.267   -1210.454\n",
      "year           0.6844      0.046     14.734      0.000       0.593       0.775\n",
      "owners        -0.4244      0.149     -2.850      0.004      -0.716      -0.132\n",
      "kmpl           0.2003      0.029      6.931      0.000       0.144       0.257\n",
      "engine_cc      0.0016      0.000      4.459      0.000       0.001       0.002\n",
      "power_bhp      0.0725      0.006     12.130      0.000       0.061       0.084\n",
      "seats          0.6536      0.126      5.192      0.000       0.407       0.900\n",
      "==============================================================================\n"
     ]
    }
   ],
   "source": [
    "y = car_exp_df['expensive']\n",
    "X  = car_exp_df.drop(['expensive', 'km_driven'], axis=1)\n",
    "X = sm.add_constant(X) #adds a column of 1's so the model will contain an intercept\n",
    "\n",
    "model = sm.Logit(y,X)\n",
    "results = model.fit()\n",
    "print(results.summary())"
   ]
  },
  {
   "cell_type": "code",
   "execution_count": 58,
   "metadata": {
    "colab": {
     "base_uri": "https://localhost:8080/"
    },
    "executionInfo": {
     "elapsed": 130,
     "status": "ok",
     "timestamp": 1737423842164,
     "user": {
      "displayName": "Alibek Kruglikov",
      "userId": "12107629968185180200"
     },
     "user_tz": 300
    },
    "id": "l_R_YGnA-gv3",
    "outputId": "cf52c43c-d71c-406c-a22e-1ea0659d0a20"
   },
   "outputs": [
    {
     "data": {
      "text/plain": [
       "986.622706428263"
      ]
     },
     "execution_count": 58,
     "metadata": {},
     "output_type": "execute_result"
    }
   ],
   "source": [
    "results.aic"
   ]
  },
  {
   "cell_type": "code",
   "execution_count": 59,
   "metadata": {
    "colab": {
     "base_uri": "https://localhost:8080/"
    },
    "executionInfo": {
     "elapsed": 89,
     "status": "ok",
     "timestamp": 1737423865593,
     "user": {
      "displayName": "Alibek Kruglikov",
      "userId": "12107629968185180200"
     },
     "user_tz": 300
    },
    "id": "uaMdZLB5iDA9",
    "outputId": "291ea818-fb9b-460c-f1f4-afad275010c7"
   },
   "outputs": [
    {
     "name": "stdout",
     "output_type": "stream",
     "text": [
      "Optimization terminated successfully.\n",
      "         Current function value: 0.307579\n",
      "         Iterations 9\n",
      "                           Logit Regression Results                           \n",
      "==============================================================================\n",
      "Dep. Variable:              expensive   No. Observations:                 1595\n",
      "Model:                          Logit   Df Residuals:                     1589\n",
      "Method:                           MLE   Df Model:                            5\n",
      "Date:                Thu, 06 Feb 2025   Pseudo R-squ.:                  0.5553\n",
      "Time:                        11:17:20   Log-Likelihood:                -490.59\n",
      "converged:                       True   LL-Null:                       -1103.1\n",
      "Covariance Type:            nonrobust   LLR p-value:                1.133e-262\n",
      "==============================================================================\n",
      "                 coef    std err          z      P>|z|      [0.025      0.975]\n",
      "------------------------------------------------------------------------------\n",
      "const      -1489.2419     90.123    -16.525      0.000   -1665.880   -1312.604\n",
      "year           0.7311      0.044     16.437      0.000       0.644       0.818\n",
      "kmpl           0.1962      0.029      6.844      0.000       0.140       0.252\n",
      "engine_cc      0.0016      0.000      4.706      0.000       0.001       0.002\n",
      "power_bhp      0.0716      0.006     12.118      0.000       0.060       0.083\n",
      "seats          0.6173      0.122      5.063      0.000       0.378       0.856\n",
      "==============================================================================\n"
     ]
    }
   ],
   "source": [
    "y = car_exp_df['expensive']\n",
    "X  = car_exp_df.drop(['expensive', 'km_driven', 'owners'], axis=1)\n",
    "X = sm.add_constant(X) #adds a column of 1's so the model will contain an intercept\n",
    "\n",
    "model = sm.Logit(y,X)\n",
    "results = model.fit()\n",
    "print(results.summary())"
   ]
  },
  {
   "cell_type": "code",
   "execution_count": 60,
   "metadata": {
    "colab": {
     "base_uri": "https://localhost:8080/"
    },
    "executionInfo": {
     "elapsed": 105,
     "status": "ok",
     "timestamp": 1737423876676,
     "user": {
      "displayName": "Alibek Kruglikov",
      "userId": "12107629968185180200"
     },
     "user_tz": 300
    },
    "id": "e5P6cQMbiFbK",
    "outputId": "05a37f91-3657-490f-c599-28d6d6d64077"
   },
   "outputs": [
    {
     "data": {
      "text/plain": [
       "993.1779163651563"
      ]
     },
     "execution_count": 60,
     "metadata": {},
     "output_type": "execute_result"
    }
   ],
   "source": [
    "results.aic"
   ]
  },
  {
   "cell_type": "markdown",
   "metadata": {
    "id": "CXKrK-3UrfpR"
   },
   "source": [
    "Looks like this can be our final model!\n",
    "\n",
    "### Bonus:\n",
    "See what happens to the adjusted R-squared when you remove a variable that seems quite important to the model. The R-squared value will **always** decrease when you remove a variable, but the adjusted R-squared is able to increase."
   ]
  }
 ],
 "metadata": {
  "colab": {
   "provenance": [
    {
     "file_id": "1NlGt31zUM5vUM32-_ABaFL-39REk3UvO",
     "timestamp": 1693335821090
    }
   ]
  },
  "kernelspec": {
   "display_name": "Python 3",
   "language": "python",
   "name": "python3"
  },
  "language_info": {
   "codemirror_mode": {
    "name": "ipython",
    "version": 3
   },
   "file_extension": ".py",
   "mimetype": "text/x-python",
   "name": "python",
   "nbconvert_exporter": "python",
   "pygments_lexer": "ipython3",
   "version": "3.11.9"
  }
 },
 "nbformat": 4,
 "nbformat_minor": 0
}
